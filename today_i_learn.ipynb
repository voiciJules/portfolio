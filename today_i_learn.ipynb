{
 "cells": [
  {
   "cell_type": "markdown",
   "id": "74955121-2631-432a-bf54-ce4b86d38d1b",
   "metadata": {
    "jp-MarkdownHeadingCollapsed": true
   },
   "source": [
    "# Today I learned\n",
    "\n",
    "2025_06_03  \n",
    "first commit for portfolio repository. I studied first presentation and summed them up. \n",
    "\n",
    "2025_06_04  \n",
    "I took the first course and studied python code(demo 1 in the presentation 1)\n",
    "\n",
    "2025_06_05  \n",
    "Presentation 02, python code p01_demo2. I watched before_class02 video as well. \n",
    "\n",
    "2025_06_06  \n",
    "I wathced second course and summed it up. \n",
    "\n",
    "2025_06_09 \n",
    "first homework, presentation 03 정리, before class 03 보고 정리.  \n",
    "\n",
    "2025_06_10  \n",
    "presentation Gen AI 정리. GenAI.ipynb\n",
    "\n",
    "2025_06_11  \n",
    "Gen AI 수업 듣고 정리. GenAI.ipynb\n",
    "\n",
    "  \n",
    "\n",
    "To Do  \n",
    "\n",
    "python code for lesson 2, course 03 듣기, Gen AI python code, \n",
    "https://youtu.be/3yPBVii7Ct0?si=eHFsn7qlL13ia3fQ \n",
    "https://www.youtube.com/watch?v=s5LhRdh5fu4\n",
    "코드 따라해보기\n",
    "\n",
    "\n"
   ]
  },
  {
   "cell_type": "code",
   "execution_count": null,
   "id": "8630b8cd-f15c-4db2-8849-7ebbd110bb6f",
   "metadata": {},
   "outputs": [],
   "source": []
  }
 ],
 "metadata": {
  "kernelspec": {
   "display_name": "Python [conda env:base] *",
   "language": "python",
   "name": "conda-base-py"
  },
  "language_info": {
   "codemirror_mode": {
    "name": "ipython",
    "version": 3
   },
   "file_extension": ".py",
   "mimetype": "text/x-python",
   "name": "python",
   "nbconvert_exporter": "python",
   "pygments_lexer": "ipython3",
   "version": "3.12.2"
  }
 },
 "nbformat": 4,
 "nbformat_minor": 5
}
