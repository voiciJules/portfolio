{
 "cells": [
  {
   "cell_type": "markdown",
   "id": "74955121-2631-432a-bf54-ce4b86d38d1b",
   "metadata": {},
   "source": [
    "# Today I learned\n",
    "\n",
    "2025_06_03\n",
    "first commit for portfolio repository. I studied first presentation and summed them up. \n",
    "\n",
    "2025_06_04\n",
    "I took the first course and studied python code(demo 1 in the presentation 1)\n",
    "\n",
    "2025_06_05\n",
    "Presentation 02, python code p01_demo2. I watched before_class02 video as well. \n",
    "\n",
    "2025_06_06\n",
    "I wathced second course. \n",
    "두번째 수업 듣고, 비포 클래스랑 같이 정리할 것. \n",
    "\n",
    "2025_06_07\n",
    "TO DO\n",
    "first homework and first quiz.\n"
   ]
  },
  {
   "cell_type": "code",
   "execution_count": null,
   "id": "8630b8cd-f15c-4db2-8849-7ebbd110bb6f",
   "metadata": {},
   "outputs": [],
   "source": []
  }
 ],
 "metadata": {
  "kernelspec": {
   "display_name": "Python [conda env:base] *",
   "language": "python",
   "name": "conda-base-py"
  },
  "language_info": {
   "codemirror_mode": {
    "name": "ipython",
    "version": 3
   },
   "file_extension": ".py",
   "mimetype": "text/x-python",
   "name": "python",
   "nbconvert_exporter": "python",
   "pygments_lexer": "ipython3",
   "version": "3.12.2"
  }
 },
 "nbformat": 4,
 "nbformat_minor": 5
}
