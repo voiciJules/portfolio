{
 "cells": [
  {
   "cell_type": "markdown",
   "metadata": {},
   "source": [
    "####  Perceptron  \n",
    "- 인공신경망의 가장 기본적인 단위로, 뇌의 뉴런을 모방한 모델입니다. 즉, 입력값을 받아서 가중치를 곱한 뒤, 그 결과를 더해서 활성화 함수를 통과시켜 출력을 내는 구조입니다.  \n",
    "| 요소                         | 설명                                        |\n",
    "| -------------------------- | ----------------------------------------- |\n",
    "| 입력값 $x_1, x_2, \\dots, x_n$ | 모델에 들어가는 값                                |\n",
    "| 가중치 $w_1, w_2, \\dots, w_n$ | 각 입력에 곱해지는 값                              |\n",
    "| 편향 $b$                     | 출력값을 조정하는 상수                              |\n",
    "| 가중합 $z$                    | $z = \\sum w_i x_i + b$                    |\n",
    "| 활성화 함수                     | 결과를 이진 출력으로 변환 (예: Step, Sigmoid, ReLU 등) |\n",
    "  \n",
    "- 예시  \n",
    "```\n",
    "입력:     x1 = 1, x2 = 0  \n",
    "가중치:   w1 = 0.5, w2 = -0.6  \n",
    "편향:     b = 0.1  \n",
    "가중합:   z = (1 * 0.5) + (0 * -0.6) + 0.1 = 0.6  \n",
    "\n",
    "출력:     활성화 함수 적용 → z > 0 → 출력 1\n",
    "```\n",
    "- 한계  \n",
    "  - 선형적으로 분리 가능한 문제만 해결 가능   \n",
    "  - XOR 문제처럼 비선형 문제는 처리 불가 "
   ]
  },
  {
   "cell_type": "code",
   "execution_count": 41,
   "metadata": {
    "id": "A5aKiX8vCosR"
   },
   "outputs": [],
   "source": [
    "import numpy as np\n",
    "\n",
    "class Perceptron(object):\n",
    "  \n",
    "  # 가중치 생성\n",
    "  def  __init__(self, input_size): \n",
    "    self.weights = np.random.rand(input_size)  \n",
    "  \n",
    "  # 활성함수, input 들어온 것들의 합이 0 이상이면 1, 아니면 0을 출력    \n",
    "  def activation_function(self, inp):\n",
    "    print(\"np.sum(inp) : \", np.sum(inp))\n",
    "    if np.sum(inp) >= 0:\n",
    "      return 1\n",
    "    else:\n",
    "      return 0\n",
    "\n",
    "  # 가중치와 input을 곱해 activation function의 파라미터 사용해 결과를 출력. 입력값을 통해 예측하는 함수.\n",
    "  def forward_pass(self, inputs):\n",
    "    print(\"np.multiply(inputs, self.weights) : \", np.multiply(inputs, self.weights))\n",
    "    return self.activation_function(np.multiply(inputs, self.weights))\n",
    "\n",
    "  # labels 값과 같으면 패, 0과 같으면 가중치에 feature 값을 더하고, 1과 같으면 가중치에서 feature 값을 빼는 함수.\n",
    "  def fit(self, features, labels):\n",
    "    if self.forward_pass(features) == labels:\n",
    "      pass\n",
    "    elif self.forward_pass(features) == 0:\n",
    "      self.weights = self.weights + features\n",
    "    elif self.forward_pass(features) == 1:\n",
    "      self.weights = self.weights - features\n",
    "    print(\"new self.weights : \", self.weights)"
   ]
  },
  {
   "cell_type": "code",
   "execution_count": 43,
   "metadata": {
    "colab": {
     "base_uri": "https://localhost:8080/",
     "height": 51
    },
    "id": "Tj6ZJQAdDcty",
    "outputId": "6b5dfd94-b400-4130-8fcf-a7757a722399"
   },
   "outputs": [
    {
     "name": "stdout",
     "output_type": "stream",
     "text": [
      "[0.86151947 0.43290597 0.97576204 0.53414993]\n",
      "np.multiply(inputs, self.weights) :  [ 1.72303894  2.16452984 -3.90304817 -1.60244979]\n",
      "np.sum(inp) :  -1.6179291842852987\n",
      "first output   : 0\n",
      "np.multiply(inputs, self.weights) :  [ 1.72303894  2.16452984 -3.90304817 -1.60244979]\n",
      "np.sum(inp) :  -1.6179291842852987\n",
      "new self.weights :  [0.86151947 0.43290597 0.97576204 0.53414993]\n",
      "np.multiply(inputs, self.weights) :  [ 1.72303894  2.16452984 -3.90304817 -1.60244979]\n",
      "np.sum(inp) :  -1.6179291842852987\n",
      "after learning : 0\n"
     ]
    }
   ],
   "source": [
    "model = Perceptron(4)\n",
    "\n",
    "print(model.weights)\n",
    "features = np.array([2,5,-4,-3])\n",
    "label = 0\n",
    "\n",
    "print('first output   :', model.forward_pass(features))\n",
    "model.fit(features, label)\n",
    "print('after learning :',model.forward_pass(features))"
   ]
  },
  {
   "cell_type": "code",
   "execution_count": 45,
   "metadata": {
    "colab": {
     "base_uri": "https://localhost:8080/",
     "height": 34
    },
    "id": "7Zy9bqXOnee-",
    "outputId": "35655f3d-3d6d-42f9-8e62-de2081bd6f96"
   },
   "outputs": [
    {
     "data": {
      "text/plain": [
       "array([0.86151947, 0.43290597, 0.97576204, 0.53414993])"
      ]
     },
     "execution_count": 45,
     "metadata": {},
     "output_type": "execute_result"
    }
   ],
   "source": [
    "model.weights"
   ]
  },
  {
   "cell_type": "code",
   "execution_count": 49,
   "metadata": {
    "colab": {
     "base_uri": "https://localhost:8080/",
     "height": 51
    },
    "id": "Xln9cAh2Ed64",
    "outputId": "74b5a9ce-0e43-4aca-a066-700abcb241d5"
   },
   "outputs": [
    {
     "name": "stdout",
     "output_type": "stream",
     "text": [
      "my_perc.weights :  [0.26776819 0.57530257 0.57097767 0.32526082]\n",
      "np.multiply(inputs, self.weights) :  [-0.53553637  2.87651283 -2.28391068  0.97578246]\n",
      "np.sum(inp) :  1.032848238071183\n",
      "1\n",
      "np.multiply(inputs, self.weights) :  [-0.53553637  2.87651283 -2.28391068  0.97578246]\n",
      "np.sum(inp) :  1.032848238071183\n",
      "new self.weights :  [0.26776819 0.57530257 0.57097767 0.32526082]\n",
      "np.multiply(inputs, self.weights) :  [-0.53553637  2.87651283 -2.28391068  0.97578246]\n",
      "np.sum(inp) :  1.032848238071183\n",
      "1\n"
     ]
    }
   ],
   "source": [
    "ins = np.array([-2,5,-4,3])\n",
    "outs = 1\n",
    "\n",
    "my_perc = Perceptron(4)\n",
    "\n",
    "print(\"my_perc.weights : \", my_perc.weights)\n",
    "\n",
    "print(my_perc.forward_pass(ins))\n",
    "my_perc.fit(ins, outs)\n",
    "print(my_perc.forward_pass(ins))"
   ]
  },
  {
   "cell_type": "code",
   "execution_count": 51,
   "metadata": {
    "colab": {
     "base_uri": "https://localhost:8080/",
     "height": 34
    },
    "id": "v-cwqv0mh8rA",
    "outputId": "0ec00c4b-58cf-4c88-e6c7-d0b4684771a6"
   },
   "outputs": [
    {
     "data": {
      "text/plain": [
       "array([0.26776819, 0.57530257, 0.57097767, 0.32526082])"
      ]
     },
     "execution_count": 51,
     "metadata": {},
     "output_type": "execute_result"
    }
   ],
   "source": [
    "my_perc.weights"
   ]
  },
  {
   "cell_type": "markdown",
   "metadata": {
    "id": "IpX3dY4nhVCB"
   },
   "source": [
    "### What is happening here?\n",
    "So apparently the simple ```fit()``` function is able to find the correct set of weights to give the right answer. It turns out that if that set of weights exists, it will be able to find it every time. But for most problems, there is no such set of weights. We will explore this later in the lecture!"
   ]
  },
  {
   "cell_type": "markdown",
   "metadata": {
    "id": "g5YXqQXY5A6W"
   },
   "source": [
    "### Perceptron from SKlearn"
   ]
  },
  {
   "cell_type": "markdown",
   "metadata": {},
   "source": [
    "아래 코드는 petal length, petal width를 가지고 Iris setosa인지 아닌지 판별하는 코드이다. iris.target == 0이면 setosa 이므로 결과값이 0 또는 1로 나오게 된다. Perceptron에 X, y를 fit 시켜서 predict 하는 과정을 담고 있다. "
   ]
  },
  {
   "cell_type": "code",
   "execution_count": 76,
   "metadata": {
    "id": "w9BMDKMNgaae"
   },
   "outputs": [],
   "source": [
    "import numpy as np\n",
    "import matplotlib.pyplot as plt\n",
    "\n",
    "from sklearn.datasets import load_iris\n",
    "from sklearn.linear_model import Perceptron\n",
    "\n",
    "iris = load_iris()\n",
    "X = iris.data[:, (2, 3)]  # petal length, petal width\n",
    "y = (iris.target == 0).astype(np.int32)  # Iris setosa이면 1, 아니면 0\n",
    "\n",
    "per_clf = Perceptron()\n",
    "per_clf.fit(X, y)\n",
    "\n",
    "y_pred = per_clf.predict([[2, 0.5]])"
   ]
  },
  {
   "cell_type": "code",
   "execution_count": 82,
   "metadata": {},
   "outputs": [
    {
     "name": "stdout",
     "output_type": "stream",
     "text": [
      "[[-0.7 -1.2]]\n",
      "[2.]\n"
     ]
    }
   ],
   "source": [
    "print(per_clf.coef_)\n",
    "print(per_clf.intercept_)"
   ]
  },
  {
   "cell_type": "code",
   "execution_count": 85,
   "metadata": {},
   "outputs": [
    {
     "data": {
      "text/plain": [
       "array([0], dtype=int32)"
      ]
     },
     "execution_count": 85,
     "metadata": {},
     "output_type": "execute_result"
    }
   ],
   "source": [
    "y_pred"
   ]
  },
  {
   "cell_type": "markdown",
   "metadata": {
    "colab": {
     "base_uri": "https://localhost:8080/",
     "height": 35
    },
    "id": "omDRe3NcnkjI",
    "outputId": "404b3303-a06e-4270-f570-df0d2339f0ca"
   },
   "source": [
    "이 코드는 Scikit-learn의 Perceptron 모델을 시각화하여 결정 경계(Decision Boundary) 를 그리는 것이다."
   ]
  },
  {
   "cell_type": "code",
   "execution_count": null,
   "metadata": {
    "colab": {
     "base_uri": "https://localhost:8080/",
     "height": 282
    },
    "id": "QVXaLS6-5INM",
    "outputId": "040caf64-407c-4571-e277-a7125b032af6"
   },
   "outputs": [
    {
     "data": {
      "text/plain": [
       "[<matplotlib.lines.Line2D at 0x7f23af07ae48>]"
      ]
     },
     "execution_count": 4,
     "metadata": {
      "tags": []
     },
     "output_type": "execute_result"
    },
    {
     "data": {
      "image/png": "[encoded data removed]",
      "text/plain": [
       "<Figure size 432x288 with 1 Axes>"
      ]
     },
     "metadata": {
      "needs_background": "light",
      "tags": []
     },
     "output_type": "display_data"
    }
   ],
   "source": [
    "a = -per_clf.coef_[0][0] / per_clf.coef_[0][1]\n",
    "b = -per_clf.intercept_ / per_clf.coef_[0][1]\n",
    "\n",
    "axes = [0, 5, 0, 2]\n",
    "\n",
    "plt.plot(X[y==0, 0], X[y==0, 1], \"bs\", label=\"Not Iris-Setosa\")\n",
    "plt.plot(X[y==1, 0], X[y==1, 1], \"yo\", label=\"Iris-Setosa\")\n",
    "\n",
    "plt.plot([axes[0], axes[1]], [a * axes[0] + b, a * axes[1] + b], \"k-\", linewidth=3)"
   ]
  },
  {
   "cell_type": "markdown",
   "metadata": {
    "id": "_9IHO5SN5xGP"
   },
   "source": [
    "## Perceptron과 Iris 데이터 예시 설명\n",
    "\n",
    "### 데이터 예시\n",
    "\n",
    "Iris 데이터셋에서 두 개의 속성만 사용합니다:\n",
    "\n",
    "- **꽃잎 길이 (x축)**\n",
    "- **꽃잎 너비 (y축)**\n",
    "\n",
    "| 꽃잎 길이 | 꽃잎 너비 | 클래스       |\n",
    "|-----------|------------|---------------|\n",
    "| 1.4       | 0.2        | Setosa        |\n",
    "| 4.5       | 1.5        | Not Setosa    |\n",
    "| 1.3       | 0.3        | Setosa        |\n",
    "| 4.8       | 1.8        | Not Setosa    |\n",
    "\n",
    "### 목표\n",
    "이 두 속성만 보고 **\"이 꽃이 Setosa인가?\"** 를 예측하는 모델을 만드는 것.\n",
    "\n",
    "### Perceptron 학습 후 나오는 수식\n",
    "\n",
    "퍼셉트론은 데이터를 분류하기 위해 다음과 같은 직선 식을 찾습니다:\n",
    "`w₁·x₁ + w₂·x₂ + b = 0`\n",
    "\n",
    "여기서:\n",
    "- `x₁`: 꽃잎 길이  \n",
    "- `x₂`: 꽃잎 너비  \n",
    "- `w₁`, `w₂`: 학습된 가중치  \n",
    "- `b`: 절편(intercept)\n",
    "\n",
    "이 식을 변형하면 실제로 직선의 형태가 됩니다:\n",
    "`x₂ = -(w₁/w₂)·x₁ - b/w₂`\n",
    "\n",
    "즉, `y = ax + b` 형태의 선이에요.\n",
    "- `a = -w₁/w₂`: 기울기  \n",
    "- `b = -b/w₂`: y절편\n",
    "\n",
    "### 시각적으로 보면\n",
    "```\n",
    "^ y축 (꽃잎 너비)\n",
    "|          o  o   (Setosa)\n",
    "|      o\n",
    "|             x   x   (Not Setosa)\n",
    "|____|____|____|____|____|____> x축 (꽃잎 길이)\n",
    "```\n",
    "\n",
    "\"o\" 는 Setosa (노란 동그라미), \"x\" 는 Not Setosa (파란 네모), 이 데이터를 구분하는 직선이 모델이 학습한 결정 경계입니다.\n",
    "\n",
    "### 코드 설명 \n",
    "```\n",
    "# 위에서 설명한 직선의 기울기와 절편을 계산합니다.\n",
    "a = -per_clf.coef_[0][0] / per_clf.coef_[0][1]\n",
    "b = -per_clf.intercept_ / per_clf.coef_[0][1]\n",
    "\n",
    "#x축에서 0부터 5까지의 구간에서, 각각의 x에 대해 𝑦=𝑎𝑥+𝑏 계산해서 두 점을 찍고, 그걸 연결해서 직선을 그림.\n",
    "plt.plot([axes[0], axes[1]], [a * axes[0] + b, a * axes[1] + b], \"k-\", linewidth=3)\n",
    "```\n"
   ]
  },
  {
   "cell_type": "code",
   "execution_count": null,
   "metadata": {},
   "outputs": [],
   "source": []
  }
 ],
 "metadata": {
  "accelerator": "GPU",
  "colab": {
   "provenance": []
  },
  "kernelspec": {
   "display_name": "Python [conda env:base] *",
   "language": "python",
   "name": "conda-base-py"
  },
  "language_info": {
   "codemirror_mode": {
    "name": "ipython",
    "version": 3
   },
   "file_extension": ".py",
   "mimetype": "text/x-python",
   "name": "python",
   "nbconvert_exporter": "python",
   "pygments_lexer": "ipython3",
   "version": "3.12.2"
  }
 },
 "nbformat": 4,
 "nbformat_minor": 4
}
