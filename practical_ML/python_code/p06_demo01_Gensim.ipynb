{
  "nbformat": 4,
  "nbformat_minor": 0,
  "metadata": {
    "colab": {
      "provenance": []
    },
    "kernelspec": {
      "name": "python3",
      "display_name": "Python 3"
    }
  },
  "cells": [
    {
      "cell_type": "markdown",
      "metadata": {
        "id": "PgslQhKNcZL3"
      },
      "source": [
        "# Gensim\n",
        "* [Gensim](https://github.com/RaRe-Technologies/gensim) is an open-source library for unsupervised topic modeling and natural lanugage processing\n"
      ]
    },
    {
      "cell_type": "code",
      "source": [
        "!pip install -q gensim"
      ],
      "metadata": {
        "id": "ytsKHivX3OxX"
      },
      "execution_count": 1,
      "outputs": []
    },
    {
      "cell_type": "code",
      "metadata": {
        "id": "3E60psdbcNgV",
        "outputId": "82e94b51-68f2-4eea-b49e-afd20e8c9555",
        "colab": {
          "base_uri": "https://localhost:8080/"
        }
      },
      "source": [
        "import gensim.downloader as api\n",
        "\n",
        "import warnings\n",
        "warnings.filterwarnings(\"ignore\")\n",
        "\n",
        "api.info('glove-wiki-gigaword-50')"
      ],
      "execution_count": 2,
      "outputs": [
        {
          "output_type": "execute_result",
          "data": {
            "text/plain": [
              "{'num_records': 400000,\n",
              " 'file_size': 69182535,\n",
              " 'base_dataset': 'Wikipedia 2014 + Gigaword 5 (6B tokens, uncased)',\n",
              " 'reader_code': 'https://github.com/RaRe-Technologies/gensim-data/releases/download/glove-wiki-gigaword-50/__init__.py',\n",
              " 'license': 'http://opendatacommons.org/licenses/pddl/',\n",
              " 'parameters': {'dimension': 50},\n",
              " 'description': 'Pre-trained vectors based on Wikipedia 2014 + Gigaword, 5.6B tokens, 400K vocab, uncased (https://nlp.stanford.edu/projects/glove/).',\n",
              " 'preprocessing': 'Converted to w2v format with `python -m gensim.scripts.glove2word2vec -i <fname> -o glove-wiki-gigaword-50.txt`.',\n",
              " 'read_more': ['https://nlp.stanford.edu/projects/glove/',\n",
              "  'https://nlp.stanford.edu/pubs/glove.pdf'],\n",
              " 'checksum': 'c289bc5d7f2f02c6dc9f2f9b67641813',\n",
              " 'file_name': 'glove-wiki-gigaword-50.gz',\n",
              " 'parts': 1}"
            ]
          },
          "metadata": {},
          "execution_count": 2
        }
      ]
    },
    {
      "cell_type": "code",
      "metadata": {
        "id": "TH8LfboudEV8",
        "colab": {
          "base_uri": "https://localhost:8080/"
        },
        "outputId": "694a9b41-2ac6-488a-87a3-3b0309b8d51a"
      },
      "source": [
        "model = api.load(\"glove-wiki-gigaword-50\")"
      ],
      "execution_count": 3,
      "outputs": [
        {
          "output_type": "stream",
          "name": "stdout",
          "text": [
            "[==================================================] 100.0% 66.0/66.0MB downloaded\n"
          ]
        }
      ]
    },
    {
      "cell_type": "code",
      "metadata": {
        "id": "EY2fr-_LhKh6",
        "outputId": "536e34ae-a4d9-45b5-8acf-ed1e774cbbce",
        "colab": {
          "base_uri": "https://localhost:8080/"
        }
      },
      "source": [
        "# shape 50\n",
        "model['blue']"
      ],
      "execution_count": 4,
      "outputs": [
        {
          "output_type": "execute_result",
          "data": {
            "text/plain": [
              "array([-0.83751 ,  0.69563 , -0.51408 ,  0.23689 ,  0.59192 , -0.027491,\n",
              "       -1.2076  , -0.98796 , -0.27658 , -0.4618  ,  0.4715  ,  0.13072 ,\n",
              "        0.50393 ,  0.50556 , -0.66766 ,  0.069073, -0.60984 , -0.22776 ,\n",
              "       -1.2481  , -1.3521  , -0.56051 , -0.17952 ,  0.22886 , -0.69244 ,\n",
              "       -1.1734  , -0.98778 , -0.81551 ,  1.5513  ,  0.36517 , -1.1162  ,\n",
              "        2.632   ,  0.21987 ,  0.10695 ,  0.28438 , -0.10348 , -0.29667 ,\n",
              "       -0.17645 , -0.75838 ,  0.085523, -0.83641 , -0.12174 , -0.063165,\n",
              "       -0.072053, -0.30712 ,  0.61861 , -0.30867 ,  0.012374, -1.1966  ,\n",
              "        0.041525, -0.23966 ], dtype=float32)"
            ]
          },
          "metadata": {},
          "execution_count": 4
        }
      ]
    },
    {
      "cell_type": "code",
      "metadata": {
        "id": "2GElAO2_dHAs",
        "outputId": "5e947754-d5d1-494e-e045-f7823539a4d1",
        "colab": {
          "base_uri": "https://localhost:8080/"
        }
      },
      "source": [
        "model.most_similar('canada')"
      ],
      "execution_count": 5,
      "outputs": [
        {
          "output_type": "execute_result",
          "data": {
            "text/plain": [
              "[('united', 0.8320111632347107),\n",
              " ('canadian', 0.8224480748176575),\n",
              " ('states', 0.8098676204681396),\n",
              " ('australia', 0.7994687557220459),\n",
              " ('zealand', 0.7906773090362549),\n",
              " ('britain', 0.7580572962760925),\n",
              " ('pacific', 0.7389345765113831),\n",
              " ('atlantic', 0.7299982309341431),\n",
              " ('european', 0.7249375581741333),\n",
              " ('europe', 0.7197747230529785)]"
            ]
          },
          "metadata": {},
          "execution_count": 5
        }
      ]
    },
    {
      "cell_type": "code",
      "metadata": {
        "id": "X4GSlN9yeLAR",
        "outputId": "d31c5db3-0983-425a-e024-d5412578119b",
        "colab": {
          "base_uri": "https://localhost:8080/"
        }
      },
      "source": [
        "model.similarity(\"friend\", \"canada\")"
      ],
      "execution_count": 6,
      "outputs": [
        {
          "output_type": "execute_result",
          "data": {
            "text/plain": [
              "0.24499221"
            ]
          },
          "metadata": {},
          "execution_count": 6
        }
      ]
    },
    {
      "cell_type": "code",
      "metadata": {
        "id": "zFs6C-04e46m",
        "outputId": "2c911c75-270a-4d34-acb2-173322e78681",
        "colab": {
          "base_uri": "https://localhost:8080/"
        }
      },
      "source": [
        "model.n_similarity(['sushi', 'shop'], ['japanese', 'restaurant'])"
      ],
      "execution_count": 8,
      "outputs": [
        {
          "output_type": "execute_result",
          "data": {
            "text/plain": [
              "0.74835527"
            ]
          },
          "metadata": {},
          "execution_count": 8
        }
      ]
    },
    {
      "cell_type": "code",
      "metadata": {
        "id": "zH4QLLOoe76z",
        "outputId": "49b0b517-db78-4b3b-c561-9c4c682fde93",
        "colab": {
          "base_uri": "https://localhost:8080/",
          "height": 36
        }
      },
      "source": [
        "model.doesnt_match(\"breakfast cereal dinner lunch\".split())"
      ],
      "execution_count": 9,
      "outputs": [
        {
          "output_type": "execute_result",
          "data": {
            "text/plain": [
              "'cereal'"
            ],
            "application/vnd.google.colaboratory.intrinsic+json": {
              "type": "string"
            }
          },
          "metadata": {},
          "execution_count": 9
        }
      ]
    },
    {
      "cell_type": "code",
      "metadata": {
        "id": "43JQIXaxfQzu",
        "outputId": "17c8a970-dbad-423c-b425-10ad0d2a8f0f",
        "colab": {
          "base_uri": "https://localhost:8080/"
        }
      },
      "source": [
        "model.distance('cat', 'dog')"
      ],
      "execution_count": 10,
      "outputs": [
        {
          "output_type": "execute_result",
          "data": {
            "text/plain": [
              "0.07819950580596924"
            ]
          },
          "metadata": {},
          "execution_count": 10
        }
      ]
    },
    {
      "cell_type": "code",
      "metadata": {
        "id": "qIABS9sQfexN",
        "outputId": "8528faa6-91b7-441a-fc86-c38ddc07e5ac",
        "colab": {
          "base_uri": "https://localhost:8080/"
        }
      },
      "source": [
        "# change king for: boy, father, shirt\n",
        "model.most_similar_cosmul(positive=['shirt', 'woman'], negative=['man'])"
      ],
      "execution_count": 11,
      "outputs": [
        {
          "output_type": "execute_result",
          "data": {
            "text/plain": [
              "[('blouse', 0.9638839364051819),\n",
              " ('scarf', 0.9476128220558167),\n",
              " ('wore', 0.9433489441871643),\n",
              " ('dress', 0.9394361972808838),\n",
              " ('jacket', 0.938557505607605),\n",
              " ('miniskirt', 0.9363972544670105),\n",
              " ('pajamas', 0.9350811839103699),\n",
              " ('flannel', 0.9345951080322266),\n",
              " ('wearing', 0.9344128966331482),\n",
              " ('untucked', 0.9322056770324707)]"
            ]
          },
          "metadata": {},
          "execution_count": 11
        }
      ]
    },
    {
      "cell_type": "code",
      "metadata": {
        "id": "eu8GcxBAf54z",
        "outputId": "c2fbc9e3-ef3e-48c1-dfb7-e9b8bead74ef",
        "colab": {
          "base_uri": "https://localhost:8080/"
        }
      },
      "source": [
        "# change korea for: japan, canada, france, etc\n",
        "model.most_similar_cosmul(positive=['london', 'france'], negative=['england'])"
      ],
      "execution_count": 12,
      "outputs": [
        {
          "output_type": "execute_result",
          "data": {
            "text/plain": [
              "[('paris', 1.1075729131698608),\n",
              " ('brussels', 1.0211695432662964),\n",
              " ('prohertrib', 0.9999327063560486),\n",
              " ('french', 0.9797008037567139),\n",
              " ('horwitz', 0.9704922437667847),\n",
              " ('agence', 0.9680933952331543),\n",
              " ('empresas', 0.9664689302444458),\n",
              " ('presse', 0.9532899856567383),\n",
              " ('vienna', 0.94989013671875),\n",
              " ('moscow', 0.9480953216552734)]"
            ]
          },
          "metadata": {},
          "execution_count": 12
        }
      ]
    },
    {
      "cell_type": "code",
      "metadata": {
        "id": "G9iO4MdTg-Cs",
        "outputId": "1f1dfbc2-d436-427e-9f00-5e00cb27f060",
        "colab": {
          "base_uri": "https://localhost:8080/"
        }
      },
      "source": [
        "!pip install POT\n",
        "\n",
        "sentence_obama = 'Obama speaks to the media in Illinois'.lower().split()\n",
        "sentence_president = 'The president greets the press in Chicago'.lower().split()\n",
        "\n",
        "model.wmdistance(sentence_obama, sentence_president)"
      ],
      "execution_count": 18,
      "outputs": [
        {
          "output_type": "stream",
          "name": "stdout",
          "text": [
            "Collecting POT\n",
            "  Downloading POT-0.9.5-cp311-cp311-manylinux_2_17_x86_64.manylinux2014_x86_64.whl.metadata (34 kB)\n",
            "Requirement already satisfied: numpy>=1.16 in /usr/local/lib/python3.11/dist-packages (from POT) (1.26.4)\n",
            "Requirement already satisfied: scipy>=1.6 in /usr/local/lib/python3.11/dist-packages (from POT) (1.13.1)\n",
            "Downloading POT-0.9.5-cp311-cp311-manylinux_2_17_x86_64.manylinux2014_x86_64.whl (897 kB)\n",
            "\u001b[?25l   \u001b[90m━━━━━━━━━━━━━━━━━━━━━━━━━━━━━━━━━━━━━━━━\u001b[0m \u001b[32m0.0/897.5 kB\u001b[0m \u001b[31m?\u001b[0m eta \u001b[36m-:--:--\u001b[0m\r\u001b[2K   \u001b[90m━━━━━━━━━━━━━━━━━━━━━━━━━━━━━━━━━━━━━━━━\u001b[0m \u001b[32m897.5/897.5 kB\u001b[0m \u001b[31m29.8 MB/s\u001b[0m eta \u001b[36m0:00:00\u001b[0m\n",
            "\u001b[?25hInstalling collected packages: POT\n",
            "Successfully installed POT-0.9.5\n"
          ]
        },
        {
          "output_type": "execute_result",
          "data": {
            "text/plain": [
              "0.5628600809933806"
            ]
          },
          "metadata": {},
          "execution_count": 18
        }
      ]
    },
    {
      "cell_type": "code",
      "metadata": {
        "id": "aqhz-EdLulwL",
        "outputId": "df1bf990-c57a-4206-d030-0fad0222515d",
        "colab": {
          "base_uri": "https://localhost:8080/"
        }
      },
      "source": [
        "sentence_obama = 'i love tomatoes'.lower().split()\n",
        "sentence_president = 'i hate tomatoes'.lower().split()\n",
        "\n",
        "model.wmdistance(sentence_obama, sentence_president)"
      ],
      "execution_count": 19,
      "outputs": [
        {
          "output_type": "execute_result",
          "data": {
            "text/plain": [
              "0.28053102564300125"
            ]
          },
          "metadata": {},
          "execution_count": 19
        }
      ]
    },
    {
      "cell_type": "code",
      "metadata": {
        "id": "MNgHNxoAuu3V"
      },
      "source": [],
      "execution_count": null,
      "outputs": []
    }
  ]
}