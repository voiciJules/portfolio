{
 "cells": [
  {
   "cell_type": "markdown",
   "id": "96314830-94a1-4513-8e19-b9cb05f42e33",
   "metadata": {},
   "source": [
    "# Lesson 1. \n",
    "  \n",
    "Applied ML at scale : 과학자들이 발명해 놓은 ML을 사용하는 것.  \n",
    "\n",
    "Applied ML\n",
    "- Supervised Learning(label)\n",
    "- Unsupervised Learning(cluster)\n",
    "- Reinforcement Learning : Waze, Navigator 같은 것들로 예시를 들면 편한데, 주변 상황들로부터 얻은 정보(observation)를 통해 다음 결정을 정하는 것 -> Robotic, Self-driving\n",
    "- Feature Extraction : abnormal, normal 등을 가려내어 불필요한 정보들을 제거하는 것\n",
    "- Feature Selection : 피쳐와 결과값의 상관관계를 찾아내어 결과값에 영향이 있는 것들을 선별하는 것\n",
    "- CNN, Deep learning, LLMs(Gen AI) 는 피쳐에 대한 접근법들이라 할 수 있다.\n",
    "\n",
    "Data science skill\n",
    "- english\n",
    "- applied maths, statistics and probability\n",
    "- Linux OS(Ubuntu in particular)\n",
    "- python & Rust\n",
    "- Applied ML(Gen AI, CNN, DL)\n",
    "- Hands-on experience(sklearn, tensorflow, pyTorch, keras, **Gen AI(langchain, langGraph, crew AI, AWS bedrock)**)\n",
    "- prompt engineering(LLMs)\n",
    "- Program optimization : better and high performance, close to the production. this is the gap. -> double your salary\n",
    "  - package(tensorflow) -> pip install 사용 않고 install from source. 즉 default를 그냥 설치하지 말고 직접 customize 해서 세팅하라.\n",
    "  - GPU programming - CUDA / cuDNN\n",
    "    - CUDA programming : NVIDIA GPU를 이용해서 병렬 처리를 수행하는 프로그래밍 방식입니다. 주로 딥러닝, 과학 계산, 영상 처리 등 고속 계산이 필요한 분야에서 사용됩니다.\n",
    "  - Server / Client (Tensorflow serving(TFX) - REST & gRPC)\n",
    "    - gRPC는 프로토콜. 수업 중 얘기되어진 것은, 명령이 들어왔을 때 app을 키고 끄는 시간소비가 크기 때문에, keep the model up and running in server side.\n",
    "  - CPU Execution( SSE & AVX Vectorization)\n",
    "- Deploy model and containerization using Docker (my code + minimal OS)\n",
    "  - Docker, Docker compose, Docker swarm, kubernetes\n",
    "  - Multiple concurrent requests(Uvicorn, Unicorn, Gunicorn, ALB, ELB...) : 웹서버에 동시에 많은 클라이언트 요청이 들어오는 경우, 효율적으로 처리해야 하는 것을 말하는 것으로 웹 서비스에서의 성능과 확장성을 좌우한다. 여러 요청을 병렬 또는 비동기로 처리할 수 있다.\n",
    "  - Chainlit, Streamlit, gradio(Web APP, presentation for business sector)\n",
    "  - EntryPoint interface(API gateway, FastAPI, Flask) : FastAPI : FastAPI는 빠르고 효율적인 Python 웹 API 개발을 위한 도구입니다. 타입 안정성, 자동 문서화, 높은 성능을 제공해 ML 서비스, 백엔드 API 서버, 데이터 파이프라인 등에 이상적입니다.\n",
    "\n",
    "ML \n",
    "- statistical ML : feature extranction / selection이 사람, 수학적 지식에 의해 결정된다. XGBoost, CatBoost, LightGBM 중요\n",
    "- DL : feature extraction relies on convolution or transformer based approach(CNN, ResNet, Inception, LSTM, BERT...)\n",
    "- LLMs : No need to  ownload, just call it. before, we maded lots of  ode, now, we use language(english). Chatgpt, Grok, Phind, Claude, Cursor AI, Copilot\n"
   ]
  },
  {
   "cell_type": "code",
   "execution_count": null,
   "id": "f95253a5-a616-47c4-983c-2aa1d5a0466f",
   "metadata": {},
   "outputs": [],
   "source": []
  }
 ],
 "metadata": {
  "kernelspec": {
   "display_name": "Python [conda env:base] *",
   "language": "python",
   "name": "conda-base-py"
  },
  "language_info": {
   "codemirror_mode": {
    "name": "ipython",
    "version": 3
   },
   "file_extension": ".py",
   "mimetype": "text/x-python",
   "name": "python",
   "nbconvert_exporter": "python",
   "pygments_lexer": "ipython3",
   "version": "3.12.2"
  }
 },
 "nbformat": 4,
 "nbformat_minor": 5
}
