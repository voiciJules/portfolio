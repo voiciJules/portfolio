{
 "cells": [
  {
   "cell_type": "markdown",
   "id": "446bb8e2-0f81-41f3-aba5-75eb0c48b2e6",
   "metadata": {},
   "source": [
    "# Serper.dev 예제 \n",
    "Jupyter notebook 에서 Serper.dev를 사용하는 핸즈온 프랙티스 예제를 챗지피티에 요구한 코드를 실행해봄. 구 버전이어서 발생하는 에러가 있었지만, 마찬가지로 챗지피티로 해결함. \n",
    "이 예제는,\n",
    "- Serper.dev 검색 API로 웹 검색\n",
    "- 검색 결과 요약\n",
    "- 한국어로 번역하는 코드임"
   ]
  },
  {
   "cell_type": "code",
   "execution_count": 22,
   "id": "d18e4458-325d-42e0-8886-bc9ff8985905",
   "metadata": {},
   "outputs": [
    {
     "name": "stdout",
     "output_type": "stream",
     "text": [
      "Requirement already satisfied: requests in /opt/anaconda3/lib/python3.12/site-packages (2.32.3)\n",
      "Requirement already satisfied: openai in /opt/anaconda3/lib/python3.12/site-packages (1.91.0)\n",
      "Requirement already satisfied: charset-normalizer<4,>=2 in /opt/anaconda3/lib/python3.12/site-packages (from requests) (3.3.2)\n",
      "Requirement already satisfied: idna<4,>=2.5 in /opt/anaconda3/lib/python3.12/site-packages (from requests) (3.7)\n",
      "Requirement already satisfied: urllib3<3,>=1.21.1 in /opt/anaconda3/lib/python3.12/site-packages (from requests) (2.2.3)\n",
      "Requirement already satisfied: certifi>=2017.4.17 in /opt/anaconda3/lib/python3.12/site-packages (from requests) (2025.1.31)\n",
      "Requirement already satisfied: anyio<5,>=3.5.0 in /opt/anaconda3/lib/python3.12/site-packages (from openai) (4.2.0)\n",
      "Requirement already satisfied: distro<2,>=1.7.0 in /opt/anaconda3/lib/python3.12/site-packages (from openai) (1.9.0)\n",
      "Requirement already satisfied: httpx<1,>=0.23.0 in /opt/anaconda3/lib/python3.12/site-packages (from openai) (0.27.0)\n",
      "Requirement already satisfied: jiter<1,>=0.4.0 in /opt/anaconda3/lib/python3.12/site-packages (from openai) (0.10.0)\n",
      "Requirement already satisfied: pydantic<3,>=1.9.0 in /opt/anaconda3/lib/python3.12/site-packages (from openai) (2.8.2)\n",
      "Requirement already satisfied: sniffio in /opt/anaconda3/lib/python3.12/site-packages (from openai) (1.3.0)\n",
      "Requirement already satisfied: tqdm>4 in /opt/anaconda3/lib/python3.12/site-packages (from openai) (4.66.5)\n",
      "Requirement already satisfied: typing-extensions<5,>=4.11 in /opt/anaconda3/lib/python3.12/site-packages (from openai) (4.11.0)\n",
      "Requirement already satisfied: httpcore==1.* in /opt/anaconda3/lib/python3.12/site-packages (from httpx<1,>=0.23.0->openai) (1.0.2)\n",
      "Requirement already satisfied: h11<0.15,>=0.13 in /opt/anaconda3/lib/python3.12/site-packages (from httpcore==1.*->httpx<1,>=0.23.0->openai) (0.14.0)\n",
      "Requirement already satisfied: annotated-types>=0.4.0 in /opt/anaconda3/lib/python3.12/site-packages (from pydantic<3,>=1.9.0->openai) (0.6.0)\n",
      "Requirement already satisfied: pydantic-core==2.20.1 in /opt/anaconda3/lib/python3.12/site-packages (from pydantic<3,>=1.9.0->openai) (2.20.1)\n"
     ]
    }
   ],
   "source": [
    "# 패키지 설치 \n",
    "!pip install requests openai"
   ]
  },
  {
   "cell_type": "code",
   "execution_count": 26,
   "id": "af51d2db-3ba2-40fb-a3f3-3089c50c14eb",
   "metadata": {},
   "outputs": [
    {
     "name": "stdout",
     "output_type": "stream",
     "text": [
      "1. The 55 Best AI Tools in 2025 (Tried & Tested) - Synthesia\n",
      "https://www.synthesia.io/post/ai-tools\n",
      "AI Assistants (Chatbots): ChatGPT, Claude, Gemini, DeepSeek, Grok · Video Generation and Editing: Synthesia, Runway, Filmora, OpusClip · Image ...\n",
      "\n",
      "2. The best AI productivity tools in 2025 - Zapier\n",
      "https://zapier.com/blog/best-ai-productivity-tools/\n",
      "The best AI productivity tools in 2025 · 1. AI chatbots · 2. AI search engines · 3. AI apps for content creation · 4. AI apps for text enhancement · 5. AI apps for ...\n",
      "\n",
      "3. 10+ AI tools you can start using for free in 2025 | Google Cloud\n",
      "https://cloud.google.com/use-cases/free-ai-tools\n",
      "Work with the latest AI models and turn your ideas into apps with free AI tools · Experiment, test, and discover the power of Gemini with Google AI Studio.\n",
      "\n",
      "🔍 summary:\n",
      " These search results highlight the best AI tools available in 2025, including AI assistants like ChatGPT and Claude, video generation and editing tools like Synthesia and Runway, and AI productivity tools such as chatbots, search engines, and apps for content creation. Google Cloud also offers free AI tools like Gemini for experimentation and app development.\n"
     ]
    }
   ],
   "source": [
    "# Serper + OpenAI 연동 코드\n",
    "import os\n",
    "import requests\n",
    "from openai import OpenAI\n",
    "\n",
    "# 🔑 API 키 설정 (자신의 키로 대체)\n",
    "os.environ[\"SERPER_API_KEY\"] = \"fdedef926fcd8dad3339a7b4ae40fad2082abcab2b0\"\n",
    "os.environ[\"OPENAI_API_KEY\"] = \"sk-proj-MYwf6nS0wudGwK9LmTLjSPG7cfWhslDVkmXa-JW_KNE-p2wk-0yXcuCjonj9dHSToldm6u37zUT3BlbkFJh5YmtO-1zeNtYbPOwLHKWsPp-1Ds1Tesva-ZUuePXaUOHYg-I5BN8VPj0QDN5X5dVEYby5-cabRoA\"\n",
    "\n",
    "# 설정\n",
    "SERPER_API_URL = \"https://google.serper.dev/search\"\n",
    "HEADERS = {\n",
    "    \"X-API-KEY\": os.environ[\"SERPER_API_KEY\"],\n",
    "    \"Content-Type\": \"application/json\"\n",
    "}\n",
    "\n",
    "# 🔍 검색 함수\n",
    "def search_serper(query):\n",
    "    payload = {\n",
    "        \"q\": query\n",
    "    }\n",
    "    response = requests.post(SERPER_API_URL, headers=HEADERS, json=payload)\n",
    "    return response.json()\n",
    "\n",
    "# 🧠 요약 함수 (OpenAI)\n",
    "def summarize_results(results):\n",
    "    text_block = \"\"\n",
    "    for result in results[\"organic\"][:3]:  # 상위 3개 결과만\n",
    "        text_block += f\"- Title: {result['title']}\\nSnippet: {result['snippet']}\\n\\n\"\n",
    "    \n",
    "    prompt = f\"\"\"Based on the following web search results, pls summarize the content. :{text_block}\"\"\"\n",
    "\n",
    "    client = OpenAI(api_key=os.environ[\"OPENAI_API_KEY\"])\n",
    "    response = client.chat.completions.create(\n",
    "        model=\"gpt-3.5-turbo\",\n",
    "        messages=[{\"role\": \"user\", \"content\": prompt}],\n",
    "        temperature=0.5\n",
    "    )\n",
    "    return response.choices[0].message.content\n",
    "\n",
    "# 🌐 예제 실행\n",
    "query = \"Latest AI tools in 2025\"\n",
    "search_results = search_serper(query)\n",
    "\n",
    "# 🔎 원문 결과\n",
    "for idx, item in enumerate(search_results[\"organic\"][:3]):\n",
    "    print(f\"{idx+1}. {item['title']}\\n{item['link']}\\n{item['snippet']}\\n\")\n",
    "\n",
    "# 📝 요약\n",
    "summary = summarize_results(search_results)\n",
    "print(\"🔍 summary:\\n\", summary)\n"
   ]
  },
  {
   "cell_type": "code",
   "execution_count": 28,
   "id": "221af441-5eb0-4e3f-975b-bb531dc85b6d",
   "metadata": {},
   "outputs": [],
   "source": [
    "#pip install --upgrade openai"
   ]
  },
  {
   "cell_type": "code",
   "execution_count": 30,
   "id": "f064b4a0-5a2e-48fc-a742-8693cbdeba7f",
   "metadata": {},
   "outputs": [
    {
     "name": "stdout",
     "output_type": "stream",
     "text": [
      "🇰🇷 summary in Korean:\n",
      " 2025년에 사용 가능한 최고의 AI 도구들을 강조하는 이 검색 결과에는 ChatGPT와 Claude와 같은 AI 어시스턴트, Synthesia와 Runway와 같은 비디오 생성 및 편집 도구, 그리고 챗봇, 검색 엔진, 콘텐츠 생성을 위한 앱과 같은 AI 생산성 도구가 포함되어 있습니다. Google Cloud는 실험 및 앱 개발을 위한 Gemini와 같은 무료 AI 도구도 제공합니다.\n"
     ]
    }
   ],
   "source": [
    "def translate_to_korean(text):\n",
    "    prompt = f\"Please translate the following English summary into natural Korean.:\\n\\n{text}\"\n",
    "    response = client.chat.completions.create(\n",
    "        model=\"gpt-3.5-turbo\",\n",
    "        messages=[{\"role\": \"user\", \"content\": prompt}],\n",
    "        temperature=0.5\n",
    "    )\n",
    "    return response.choices[0].message.content\n",
    "\n",
    "translated = translate_to_korean(summary)\n",
    "print(\"🇰🇷 summary in Korean:\\n\", translated)"
   ]
  },
  {
   "cell_type": "code",
   "execution_count": null,
   "id": "7af174ea-0233-4cbc-b9c8-6677c152d5fb",
   "metadata": {},
   "outputs": [],
   "source": []
  }
 ],
 "metadata": {
  "kernelspec": {
   "display_name": "Python [conda env:base] *",
   "language": "python",
   "name": "conda-base-py"
  },
  "language_info": {
   "codemirror_mode": {
    "name": "ipython",
    "version": 3
   },
   "file_extension": ".py",
   "mimetype": "text/x-python",
   "name": "python",
   "nbconvert_exporter": "python",
   "pygments_lexer": "ipython3",
   "version": "3.12.2"
  }
 },
 "nbformat": 4,
 "nbformat_minor": 5
}
